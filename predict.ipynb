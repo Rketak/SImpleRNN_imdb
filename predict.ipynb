{
 "cells": [
  {
   "cell_type": "code",
   "execution_count": 18,
   "metadata": {},
   "outputs": [],
   "source": [
    "# Step 1: Import Libraries and Load the Model\n",
    "import numpy as np\n",
    "import tensorflow as tf\n",
    "from tensorflow.keras.datasets import imdb\n",
    "from tensorflow.keras.preprocessing import sequence\n",
    "from tensorflow.keras.models import load_model"
   ]
  },
  {
   "cell_type": "code",
   "execution_count": 19,
   "metadata": {},
   "outputs": [],
   "source": [
    "# Load the IMDB dataset word index\n",
    "word_index = imdb.get_word_index()\n",
    "reverse_word_index = {value: key for key, value in word_index.items()}"
   ]
  },
  {
   "cell_type": "code",
   "execution_count": 20,
   "metadata": {},
   "outputs": [
    {
     "data": {
      "text/html": [
       "<pre style=\"white-space:pre;overflow-x:auto;line-height:normal;font-family:Menlo,'DejaVu Sans Mono',consolas,'Courier New',monospace\"><span style=\"font-weight: bold\">Model: \"sequential_17\"</span>\n",
       "</pre>\n"
      ],
      "text/plain": [
       "\u001b[1mModel: \"sequential_17\"\u001b[0m\n"
      ]
     },
     "metadata": {},
     "output_type": "display_data"
    },
    {
     "data": {
      "text/html": [
       "<pre style=\"white-space:pre;overflow-x:auto;line-height:normal;font-family:Menlo,'DejaVu Sans Mono',consolas,'Courier New',monospace\">┏━━━━━━━━━━━━━━━━━━━━━━━━━━━━━━━━━┳━━━━━━━━━━━━━━━━━━━━━━━━┳━━━━━━━━━━━━━━━┓\n",
       "┃<span style=\"font-weight: bold\"> Layer (type)                    </span>┃<span style=\"font-weight: bold\"> Output Shape           </span>┃<span style=\"font-weight: bold\">       Param # </span>┃\n",
       "┡━━━━━━━━━━━━━━━━━━━━━━━━━━━━━━━━━╇━━━━━━━━━━━━━━━━━━━━━━━━╇━━━━━━━━━━━━━━━┩\n",
       "│ embedding_16 (<span style=\"color: #0087ff; text-decoration-color: #0087ff\">Embedding</span>)        │ (<span style=\"color: #00af00; text-decoration-color: #00af00\">32</span>, <span style=\"color: #00af00; text-decoration-color: #00af00\">500</span>, <span style=\"color: #00af00; text-decoration-color: #00af00\">128</span>)         │     <span style=\"color: #00af00; text-decoration-color: #00af00\">1,280,000</span> │\n",
       "├─────────────────────────────────┼────────────────────────┼───────────────┤\n",
       "│ simple_rnn_16 (<span style=\"color: #0087ff; text-decoration-color: #0087ff\">SimpleRNN</span>)       │ (<span style=\"color: #00af00; text-decoration-color: #00af00\">32</span>, <span style=\"color: #00af00; text-decoration-color: #00af00\">128</span>)              │        <span style=\"color: #00af00; text-decoration-color: #00af00\">32,896</span> │\n",
       "├─────────────────────────────────┼────────────────────────┼───────────────┤\n",
       "│ dense_16 (<span style=\"color: #0087ff; text-decoration-color: #0087ff\">Dense</span>)                │ (<span style=\"color: #00af00; text-decoration-color: #00af00\">32</span>, <span style=\"color: #00af00; text-decoration-color: #00af00\">1</span>)                │           <span style=\"color: #00af00; text-decoration-color: #00af00\">129</span> │\n",
       "└─────────────────────────────────┴────────────────────────┴───────────────┘\n",
       "</pre>\n"
      ],
      "text/plain": [
       "┏━━━━━━━━━━━━━━━━━━━━━━━━━━━━━━━━━┳━━━━━━━━━━━━━━━━━━━━━━━━┳━━━━━━━━━━━━━━━┓\n",
       "┃\u001b[1m \u001b[0m\u001b[1mLayer (type)                   \u001b[0m\u001b[1m \u001b[0m┃\u001b[1m \u001b[0m\u001b[1mOutput Shape          \u001b[0m\u001b[1m \u001b[0m┃\u001b[1m \u001b[0m\u001b[1m      Param #\u001b[0m\u001b[1m \u001b[0m┃\n",
       "┡━━━━━━━━━━━━━━━━━━━━━━━━━━━━━━━━━╇━━━━━━━━━━━━━━━━━━━━━━━━╇━━━━━━━━━━━━━━━┩\n",
       "│ embedding_16 (\u001b[38;5;33mEmbedding\u001b[0m)        │ (\u001b[38;5;34m32\u001b[0m, \u001b[38;5;34m500\u001b[0m, \u001b[38;5;34m128\u001b[0m)         │     \u001b[38;5;34m1,280,000\u001b[0m │\n",
       "├─────────────────────────────────┼────────────────────────┼───────────────┤\n",
       "│ simple_rnn_16 (\u001b[38;5;33mSimpleRNN\u001b[0m)       │ (\u001b[38;5;34m32\u001b[0m, \u001b[38;5;34m128\u001b[0m)              │        \u001b[38;5;34m32,896\u001b[0m │\n",
       "├─────────────────────────────────┼────────────────────────┼───────────────┤\n",
       "│ dense_16 (\u001b[38;5;33mDense\u001b[0m)                │ (\u001b[38;5;34m32\u001b[0m, \u001b[38;5;34m1\u001b[0m)                │           \u001b[38;5;34m129\u001b[0m │\n",
       "└─────────────────────────────────┴────────────────────────┴───────────────┘\n"
      ]
     },
     "metadata": {},
     "output_type": "display_data"
    },
    {
     "data": {
      "text/html": [
       "<pre style=\"white-space:pre;overflow-x:auto;line-height:normal;font-family:Menlo,'DejaVu Sans Mono',consolas,'Courier New',monospace\"><span style=\"font-weight: bold\"> Total params: </span><span style=\"color: #00af00; text-decoration-color: #00af00\">3,939,077</span> (15.03 MB)\n",
       "</pre>\n"
      ],
      "text/plain": [
       "\u001b[1m Total params: \u001b[0m\u001b[38;5;34m3,939,077\u001b[0m (15.03 MB)\n"
      ]
     },
     "metadata": {},
     "output_type": "display_data"
    },
    {
     "data": {
      "text/html": [
       "<pre style=\"white-space:pre;overflow-x:auto;line-height:normal;font-family:Menlo,'DejaVu Sans Mono',consolas,'Courier New',monospace\"><span style=\"font-weight: bold\"> Trainable params: </span><span style=\"color: #00af00; text-decoration-color: #00af00\">1,313,025</span> (5.01 MB)\n",
       "</pre>\n"
      ],
      "text/plain": [
       "\u001b[1m Trainable params: \u001b[0m\u001b[38;5;34m1,313,025\u001b[0m (5.01 MB)\n"
      ]
     },
     "metadata": {},
     "output_type": "display_data"
    },
    {
     "data": {
      "text/html": [
       "<pre style=\"white-space:pre;overflow-x:auto;line-height:normal;font-family:Menlo,'DejaVu Sans Mono',consolas,'Courier New',monospace\"><span style=\"font-weight: bold\"> Non-trainable params: </span><span style=\"color: #00af00; text-decoration-color: #00af00\">0</span> (0.00 B)\n",
       "</pre>\n"
      ],
      "text/plain": [
       "\u001b[1m Non-trainable params: \u001b[0m\u001b[38;5;34m0\u001b[0m (0.00 B)\n"
      ]
     },
     "metadata": {},
     "output_type": "display_data"
    },
    {
     "data": {
      "text/html": [
       "<pre style=\"white-space:pre;overflow-x:auto;line-height:normal;font-family:Menlo,'DejaVu Sans Mono',consolas,'Courier New',monospace\"><span style=\"font-weight: bold\"> Optimizer params: </span><span style=\"color: #00af00; text-decoration-color: #00af00\">2,626,052</span> (10.02 MB)\n",
       "</pre>\n"
      ],
      "text/plain": [
       "\u001b[1m Optimizer params: \u001b[0m\u001b[38;5;34m2,626,052\u001b[0m (10.02 MB)\n"
      ]
     },
     "metadata": {},
     "output_type": "display_data"
    }
   ],
   "source": [
    "# Load the pre-trained model with ReLU activation\n",
    "model = load_model('simple_RNN_imdb.keras')\n",
    "model.summary()"
   ]
  },
  {
   "cell_type": "code",
   "execution_count": 21,
   "metadata": {},
   "outputs": [
    {
     "data": {
      "text/plain": [
       "[array([[-1.3854991 , -0.8094128 ,  0.5687408 , ...,  0.2650298 ,\n",
       "          0.40964246, -0.24283879],\n",
       "        [-0.0716046 , -0.12622264,  0.04232708, ...,  0.05140414,\n",
       "         -0.00152181, -0.02978622],\n",
       "        [-0.16132747, -0.14574748,  0.13911861, ...,  0.13954006,\n",
       "          0.03847059, -0.11174712],\n",
       "        ...,\n",
       "        [-0.10121182,  0.21192804, -0.10068386, ..., -0.18437077,\n",
       "         -0.04123031,  0.1043819 ],\n",
       "        [ 0.09845012,  0.07015919, -0.03803486, ..., -0.03422403,\n",
       "         -0.11306687, -0.03908855],\n",
       "        [-0.11214297,  0.18656084, -0.08712219, ..., -0.10217775,\n",
       "         -0.0569072 ,  0.05189168]], dtype=float32),\n",
       " array([[-0.02953641, -0.03120809, -0.12594622, ..., -0.06031207,\n",
       "          0.18984546, -0.1077991 ],\n",
       "        [ 0.07200629,  0.07344741,  0.07488545, ...,  0.02783781,\n",
       "          0.10504545,  0.07452507],\n",
       "        [ 0.01669984, -0.05196889, -0.08081532, ...,  0.05407385,\n",
       "         -0.11578283, -0.01555059],\n",
       "        ...,\n",
       "        [ 0.14152327, -0.10556105,  0.04840115, ...,  0.12844758,\n",
       "          0.01395334,  0.08263277],\n",
       "        [ 0.14696729,  0.023415  , -0.08807402, ..., -0.10952251,\n",
       "         -0.00860853,  0.13469467],\n",
       "        [ 0.16215831,  0.13318403, -0.07277742, ...,  0.14925456,\n",
       "          0.08630774, -0.02965432]], dtype=float32),\n",
       " array([[-0.00425081, -0.08698782, -0.01706773, ...,  0.05829044,\n",
       "          0.05565596, -0.01670863],\n",
       "        [ 0.19924349, -0.0016785 ,  0.18460032, ..., -0.04678265,\n",
       "         -0.02666823, -0.18385391],\n",
       "        [ 0.07315534,  0.07210661,  0.09828922, ..., -0.09824421,\n",
       "          0.10299257, -0.01810683],\n",
       "        ...,\n",
       "        [ 0.1651716 , -0.05728208,  0.21496034, ..., -0.05760552,\n",
       "          0.0862749 ,  0.14023547],\n",
       "        [-0.06814133,  0.00929257,  0.05138313, ...,  0.03669734,\n",
       "          0.0568723 ,  0.05873771],\n",
       "        [-0.03253407,  0.29603374, -0.09960613, ...,  0.02226153,\n",
       "         -0.1774917 , -0.0698043 ]], dtype=float32),\n",
       " array([-0.01297661, -0.03060688,  0.0059965 , -0.00154608, -0.03107628,\n",
       "         0.01121717,  0.00704525, -0.01081425, -0.0428037 ,  0.05866061,\n",
       "         0.00137063, -0.03989947, -0.00983281,  0.01361844,  0.02308057,\n",
       "        -0.01682407,  0.01098849,  0.0137452 , -0.03605539, -0.00934254,\n",
       "        -0.02105504, -0.02546972,  0.00516922, -0.04431792,  0.0386011 ,\n",
       "         0.03778389, -0.00706215,  0.00589666, -0.04901883,  0.03060001,\n",
       "        -0.02956646,  0.00124595, -0.02157003, -0.02928073, -0.0328069 ,\n",
       "        -0.01800637,  0.00677875, -0.00391392,  0.0070612 , -0.03096646,\n",
       "         0.01180634, -0.00660459, -0.05082509, -0.03381457, -0.00134387,\n",
       "        -0.02796605, -0.01683351, -0.01638256,  0.01090784, -0.05337   ,\n",
       "        -0.03534439,  0.00336177,  0.01852363, -0.03691178,  0.03152891,\n",
       "        -0.02677706, -0.01655608, -0.00447421, -0.03258306, -0.03977092,\n",
       "         0.01329292,  0.00706777,  0.01223847, -0.05289683, -0.02177736,\n",
       "        -0.01359656, -0.01834615,  0.02724803, -0.02889297, -0.02079814,\n",
       "        -0.018248  ,  0.00145049, -0.00258696, -0.02598342, -0.02964589,\n",
       "         0.03534442, -0.04098115, -0.00279534, -0.00932544, -0.00761079,\n",
       "         0.01069686,  0.0134812 ,  0.02669016, -0.0029026 , -0.02009992,\n",
       "        -0.01009144, -0.0124586 ,  0.00284918, -0.0068789 , -0.01252452,\n",
       "         0.00290506, -0.0295214 , -0.01066615, -0.02366308,  0.00040441,\n",
       "        -0.00791607, -0.06253722,  0.01151552,  0.00489936,  0.01767525,\n",
       "        -0.02712813, -0.01907619, -0.00728938, -0.01213791, -0.01450458,\n",
       "        -0.01063589, -0.01838365,  0.00252892, -0.05346224, -0.03662553,\n",
       "        -0.04012304, -0.01025007,  0.0059381 ,  0.02066303, -0.00377956,\n",
       "        -0.0112413 , -0.01778599, -0.0451965 , -0.0169685 , -0.02833458,\n",
       "        -0.02865874, -0.02567988, -0.00474435,  0.02790226,  0.00976929,\n",
       "        -0.0341759 ,  0.01026649, -0.00800187], dtype=float32),\n",
       " array([[ 0.03209652],\n",
       "        [ 0.1227209 ],\n",
       "        [ 0.1557552 ],\n",
       "        [-0.15968469],\n",
       "        [ 0.1650275 ],\n",
       "        [-0.1560546 ],\n",
       "        [-0.19463523],\n",
       "        [ 0.13368343],\n",
       "        [-0.10095472],\n",
       "        [-0.37289044],\n",
       "        [-0.02638742],\n",
       "        [-0.02717786],\n",
       "        [ 0.12811294],\n",
       "        [ 0.24763471],\n",
       "        [-0.12536128],\n",
       "        [ 0.14880848],\n",
       "        [-0.23593062],\n",
       "        [ 0.21128763],\n",
       "        [ 0.10470664],\n",
       "        [ 0.13549156],\n",
       "        [-0.26186576],\n",
       "        [ 0.08039237],\n",
       "        [-0.19860344],\n",
       "        [ 0.11792454],\n",
       "        [ 0.09391893],\n",
       "        [ 0.1453286 ],\n",
       "        [ 0.3024623 ],\n",
       "        [-0.16521104],\n",
       "        [ 0.0494363 ],\n",
       "        [-0.17375967],\n",
       "        [ 0.09714215],\n",
       "        [ 0.23994763],\n",
       "        [ 0.10028505],\n",
       "        [ 0.24554862],\n",
       "        [ 0.06859957],\n",
       "        [ 0.03841408],\n",
       "        [ 0.02369004],\n",
       "        [-0.0444846 ],\n",
       "        [-0.19802614],\n",
       "        [ 0.21665455],\n",
       "        [-0.17123596],\n",
       "        [-0.31228682],\n",
       "        [ 0.16779332],\n",
       "        [-0.16048254],\n",
       "        [-0.25049573],\n",
       "        [ 0.02186799],\n",
       "        [ 0.22125903],\n",
       "        [-0.05529048],\n",
       "        [-0.23033053],\n",
       "        [-0.09077401],\n",
       "        [ 0.06333664],\n",
       "        [-0.13977033],\n",
       "        [-0.18047051],\n",
       "        [ 0.063942  ],\n",
       "        [-0.0841381 ],\n",
       "        [-0.05169861],\n",
       "        [ 0.8440795 ],\n",
       "        [-0.13733955],\n",
       "        [-0.11106344],\n",
       "        [-0.12502258],\n",
       "        [-0.01667567],\n",
       "        [ 0.2544538 ],\n",
       "        [ 0.10872695],\n",
       "        [-0.24859057],\n",
       "        [-0.15389359],\n",
       "        [ 0.11298974],\n",
       "        [ 0.08181333],\n",
       "        [ 0.00923875],\n",
       "        [-0.18507907],\n",
       "        [ 0.23522474],\n",
       "        [ 0.00866328],\n",
       "        [-0.8374012 ],\n",
       "        [ 0.21064426],\n",
       "        [ 0.2675258 ],\n",
       "        [ 0.7565419 ],\n",
       "        [-0.11023724],\n",
       "        [-0.06884992],\n",
       "        [ 0.17812628],\n",
       "        [-0.07740242],\n",
       "        [-0.8436278 ],\n",
       "        [-0.12816179],\n",
       "        [-0.56843865],\n",
       "        [-0.18674539],\n",
       "        [-0.08665594],\n",
       "        [-0.07936851],\n",
       "        [ 0.156504  ],\n",
       "        [-0.2631693 ],\n",
       "        [ 0.08299413],\n",
       "        [ 0.0010154 ],\n",
       "        [ 0.0516532 ],\n",
       "        [-0.205169  ],\n",
       "        [-0.03374534],\n",
       "        [ 0.071279  ],\n",
       "        [ 0.0917425 ],\n",
       "        [-0.15285884],\n",
       "        [ 0.26141974],\n",
       "        [ 0.36233068],\n",
       "        [ 0.08725483],\n",
       "        [-0.08067453],\n",
       "        [-0.12863632],\n",
       "        [-0.20025897],\n",
       "        [ 0.2150961 ],\n",
       "        [ 0.04834577],\n",
       "        [-0.10796462],\n",
       "        [-0.10233892],\n",
       "        [ 0.22499439],\n",
       "        [ 0.1528448 ],\n",
       "        [ 0.31108013],\n",
       "        [-0.34110978],\n",
       "        [ 0.01579296],\n",
       "        [ 0.20030345],\n",
       "        [ 0.09792013],\n",
       "        [ 0.09448288],\n",
       "        [ 0.21102206],\n",
       "        [ 0.15245263],\n",
       "        [ 0.13628685],\n",
       "        [ 0.04577272],\n",
       "        [ 0.15115197],\n",
       "        [ 0.00814327],\n",
       "        [-0.1350202 ],\n",
       "        [-0.10923484],\n",
       "        [ 0.06341845],\n",
       "        [-0.15718864],\n",
       "        [-0.18238413],\n",
       "        [ 0.00396991],\n",
       "        [-0.17143649],\n",
       "        [-0.10569952],\n",
       "        [-0.0460758 ]], dtype=float32),\n",
       " array([-0.06544964], dtype=float32)]"
      ]
     },
     "execution_count": 21,
     "metadata": {},
     "output_type": "execute_result"
    }
   ],
   "source": [
    "model.get_weights()"
   ]
  },
  {
   "cell_type": "code",
   "execution_count": 30,
   "metadata": {},
   "outputs": [],
   "source": [
    "# Step 2: Helper Functions\n",
    "# Function to decode reviews\n",
    "def decode_review(encoded_review):\n",
    "    return ' '.join([reverse_word_index.get(i - 3, '?') for i in encoded_review])\n",
    "\n",
    "# Function to preprocess user input\n",
    "def preprocess_text(text):\n",
    "    words = text.lower().split()\n",
    "    encoded_review = [word_index.get(word, 2) + 3 for word in words]\n",
    "    padded_review = sequence.pad_sequences([encoded_review], maxlen=500)\n",
    "    return padded_review"
   ]
  },
  {
   "cell_type": "code",
   "execution_count": 31,
   "metadata": {},
   "outputs": [],
   "source": [
    "### Prediction  function\n",
    "\n",
    "def predict_sentiment(review):\n",
    "    preprocessed_input=preprocess_text(review)\n",
    "\n",
    "    prediction=model.predict(preprocessed_input)\n",
    "\n",
    "    sentiment = 'Positive' if prediction[0][0] > 0.5 else 'Negative'\n",
    "    \n",
    "    return sentiment, prediction[0][0]\n"
   ]
  },
  {
   "cell_type": "code",
   "execution_count": 32,
   "metadata": {},
   "outputs": [
    {
     "name": "stdout",
     "output_type": "stream",
     "text": [
      "\u001b[1m1/1\u001b[0m \u001b[32m━━━━━━━━━━━━━━━━━━━━\u001b[0m\u001b[37m\u001b[0m \u001b[1m0s\u001b[0m 37ms/step\n",
      "Review: This movie was bad.\n",
      "Sentiment: Positive\n",
      "Prediction Score: 0.8675079345703125\n"
     ]
    }
   ],
   "source": [
    "# Step 4: User Input and Prediction\n",
    "# Example review for prediction\n",
    "example_review = \"This movie was bad.\"\n",
    "\n",
    "sentiment,score=predict_sentiment(example_review)\n",
    "\n",
    "print(f'Review: {example_review}')\n",
    "print(f'Sentiment: {sentiment}')\n",
    "print(f'Prediction Score: {score}')"
   ]
  },
  {
   "cell_type": "code",
   "execution_count": 33,
   "metadata": {},
   "outputs": [
    {
     "name": "stdout",
     "output_type": "stream",
     "text": [
      "\u001b[1m1/1\u001b[0m \u001b[32m━━━━━━━━━━━━━━━━━━━━\u001b[0m\u001b[37m\u001b[0m \u001b[1m0s\u001b[0m 41ms/step\n",
      "Review: This movie was great!\n",
      "Sentiment: Positive | Score: 0.8675\n",
      "--------------------------------------------------\n",
      "\u001b[1m1/1\u001b[0m \u001b[32m━━━━━━━━━━━━━━━━━━━━\u001b[0m\u001b[37m\u001b[0m \u001b[1m0s\u001b[0m 32ms/step\n",
      "Review: Absolutely terrible film.\n",
      "Sentiment: Positive | Score: 0.6880\n",
      "--------------------------------------------------\n",
      "\u001b[1m1/1\u001b[0m \u001b[32m━━━━━━━━━━━━━━━━━━━━\u001b[0m\u001b[37m\u001b[0m \u001b[1m0s\u001b[0m 31ms/step\n",
      "Review: I loved it.\n",
      "Sentiment: Positive | Score: 0.9765\n",
      "--------------------------------------------------\n",
      "\u001b[1m1/1\u001b[0m \u001b[32m━━━━━━━━━━━━━━━━━━━━\u001b[0m\u001b[37m\u001b[0m \u001b[1m0s\u001b[0m 31ms/step\n",
      "Review: Worst experience ever.\n",
      "Sentiment: Negative | Score: 0.3779\n",
      "--------------------------------------------------\n"
     ]
    }
   ],
   "source": [
    "import numpy as np\n",
    "# Test with both positive and negative examples\n",
    "test_reviews = [\"This movie was great!\", \"Absolutely terrible film.\", \"I loved it.\", \"Worst experience ever.\"]\n",
    "for review in test_reviews:\n",
    "    sentiment, score = predict_sentiment(review)\n",
    "    print(f'Review: {review}')\n",
    "    print(f'Sentiment: {sentiment} | Score: {score:.4f}')\n",
    "    print('-' * 50)\n"
   ]
  },
  {
   "cell_type": "code",
   "execution_count": 37,
   "metadata": {},
   "outputs": [
    {
     "name": "stdout",
     "output_type": "stream",
     "text": [
      "Encoded: [[ 0  0  0  0  0  0  0  0  0  0  0  0  0  0  0  0  0  0  0  0  0  0  0  0\n",
      "   0  0  0  0  0  0  0  0  0  0  0  0  0  0  0  0  0  0  0  0  0  0  0  0\n",
      "   0  0  0  0  0  0  0  0  0  0  0  0  0  0  0  0  0  0  0  0  0  0  0  0\n",
      "   0  0  0  0  0  0  0  0  0  0  0  0  0  0  0  0  0  0  0  0  0  0  0  0\n",
      "   0  0  0  0  0  0  0  0  0  0  0  0  0  0  0  0  0  0  0  0  0  0  0  0\n",
      "   0  0  0  0  0  0  0  0  0  0  0  0  0  0  0  0  0  0  0  0  0  0  0  0\n",
      "   0  0  0  0  0  0  0  0  0  0  0  0  0  0  0  0  0  0  0  0  0  0  0  0\n",
      "   0  0  0  0  0  0  0  0  0  0  0  0  0  0  0  0  0  0  0  0  0  0  0  0\n",
      "   0  0  0  0  0  0  0  0  0  0  0  0  0  0  0  0  0  0  0  0  0  0  0  0\n",
      "   0  0  0  0  0  0  0  0  0  0  0  0  0  0  0  0  0  0  0  0  0  0  0  0\n",
      "   0  0  0  0  0  0  0  0  0  0  0  0  0  0  0  0  0  0  0  0  0  0  0  0\n",
      "   0  0  0  0  0  0  0  0  0  0  0  0  0  0  0  0  0  0  0  0  0  0  0  0\n",
      "   0  0  0  0  0  0  0  0  0  0  0  0  0  0  0  0  0  0  0  0  0  0  0  0\n",
      "   0  0  0  0  0  0  0  0  0  0  0  0  0  0  0  0  0  0  0  0  0  0  0  0\n",
      "   0  0  0  0  0  0  0  0  0  0  0  0  0  0  0  0  0  0  0  0  0  0  0  0\n",
      "   0  0  0  0  0  0  0  0  0  0  0  0  0  0  0  0  0  0  0  0  0  0  0  0\n",
      "   0  0  0  0  0  0  0  0  0  0  0  0  0  0  0  0  0  0  0  0  0  0  0  0\n",
      "   0  0  0  0  0  0  0  0  0  0  0  0  0  0  0  0  0  0  0  0  0  0  0  0\n",
      "   0  0  0  0  0  0  0  0  0  0  0  0  0  0  0  0  0  0  0  0  0  0  0  0\n",
      "   0  0  0  0  0  0  0  0  0  0  0  0  0  0  0  0  0  0  0  0  0  0  0  0\n",
      "   0  0  0  0  0  0  0  0  0  0  0  0  0  0  0  0 14 20 16  5]]\n"
     ]
    }
   ],
   "source": [
    "example_review = \"This movie was bad.\"\n",
    "encoded = preprocess_text(example_review)\n",
    "print(\"Encoded:\", encoded)\n"
   ]
  },
  {
   "cell_type": "code",
   "execution_count": null,
   "metadata": {},
   "outputs": [],
   "source": []
  },
  {
   "cell_type": "code",
   "execution_count": null,
   "metadata": {},
   "outputs": [],
   "source": []
  }
 ],
 "metadata": {
  "kernelspec": {
   "display_name": "Python 3",
   "language": "python",
   "name": "python3"
  },
  "language_info": {
   "codemirror_mode": {
    "name": "ipython",
    "version": 3
   },
   "file_extension": ".py",
   "mimetype": "text/x-python",
   "name": "python",
   "nbconvert_exporter": "python",
   "pygments_lexer": "ipython3",
   "version": "3.11.0"
  },
  "orig_nbformat": 4
 },
 "nbformat": 4,
 "nbformat_minor": 2
}
